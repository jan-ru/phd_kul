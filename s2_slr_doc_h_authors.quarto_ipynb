{
  "cells": [
    {
      "cell_type": "markdown",
      "metadata": {},
      "source": [
        "---\n",
        "latex-output-dir: output\n",
        "execute:\n",
        "  echo: false\n",
        "---\n",
        "\n",
        "\n",
        "\n",
        "\n",
        "\n",
        "\n",
        "\n",
        "\n",
        "\n",
        "# Authors {#appendix-i}\n",
        "\n",
        "\\fontsize{9}{10}\\selectfont\n"
      ],
      "id": "879b4672"
    },
    {
      "cell_type": "code",
      "metadata": {},
      "source": [
        "# \n",
        "import bibtexparser\n",
        "import requests\n",
        "from IPython.display import Markdown\n",
        "from tabulate import tabulate\n",
        "\n",
        "file_path = '/Users/admin/Projects/literature/phd_kul/bib/MySelection.bib'"
      ],
      "id": "9b96af1c",
      "execution_count": null,
      "outputs": []
    },
    {
      "cell_type": "code",
      "metadata": {},
      "source": [
        "#| label: tbl-authors\n",
        "#| tbl-cap: Authors\n",
        "\n",
        "def extract_authors_from_bibtex(file_path):\n",
        "    with open(file_path) as bibtex_file:\n",
        "        bibtex_str = bibtex_file.read()\n",
        "\n",
        "    bib_database = bibtexparser.loads(bibtex_str)\n",
        "    authors_list = []\n",
        "\n",
        "    for entry in bib_database.entries:\n",
        "        if 'author' in entry:\n",
        "            entry_authors = [author.strip() for author in entry['author'].split(' and ')]\n",
        "            first_author = entry_authors[0]  # Extract the first author\n",
        "            other_authors = ', '.join(entry_authors[1:])  # Combine the remaining authors\n",
        "            authors_list.append((first_author, other_authors))  # Append as a tuple\n",
        "\n",
        "    # No need to sort here as tabulate will handle the display\n",
        "    return authors_list\n",
        "\n",
        "authors = extract_authors_from_bibtex(file_path)\n",
        "\n",
        "# Format and print the table in Markdown format\n",
        "Markdown(tabulate(authors, headers=[\"First Author\", \"Other Authors\"], maxcolwidths=[40, 50]))"
      ],
      "id": "tbl-authors",
      "execution_count": null,
      "outputs": []
    },
    {
      "cell_type": "code",
      "metadata": {},
      "source": [
        "import matplotlib.pyplot as plt\n",
        "# import bibtexparser\n",
        "\n",
        "\n",
        "def parse_bib_file(bib_file):\n",
        "    with open(bib_file, 'r', encoding='utf-8') as file:\n",
        "        bib_database = bibtexparser.load(file)\n",
        "    return bib_database.entries\n",
        "\n",
        "\n",
        "def plot_timeline(articles):\n",
        "    years = []\n",
        "    for article in articles:\n",
        "        try:\n",
        "            # Extract the year from the 'year' field\n",
        "            year = int(article['year'])\n",
        "            years.append(year)\n",
        "        except KeyError:\n",
        "            pass\n",
        "\n",
        "    # Plot the timeline\n",
        "    plt.figure(figsize=(10, 5))\n",
        "    plt.hist(years, bins=[edge - 0.5 for edge in range(min(years),\n",
        "                                                       max(years) + 2)],\n",
        "                                                       color='skyblue',\n",
        "                                                       edgecolor='black')\n",
        "    plt.title('Timeline of Publications\\nn={}'.format(len(articles)))\n",
        "    plt.ylabel('Number of Articles')\n",
        "    plt.xticks(range(min(years), max(years) + 2))\n",
        "\n",
        "    # Set y-axis ticks to integer values\n",
        "    plt.yticks(range(int(min(plt.gca().get_ylim())), \n",
        "                     int(max(plt.gca().get_ylim())) + 1))\n",
        "    plt.tight_layout()\n",
        "    plt.show()\n",
        "\n",
        "\n",
        "if __name__ == \"__main__\":\n",
        "    bib_file = 'bib/MySelection.bib'  # Replace with the path to your .bib file\n",
        "    articles = parse_bib_file(bib_file)\n",
        "    plot_timeline(articles)"
      ],
      "id": "daa88e42",
      "execution_count": null,
      "outputs": []
    },
    {
      "cell_type": "markdown",
      "metadata": {},
      "source": [
        "\\fontsize{11}{12}\\selectfont"
      ],
      "id": "fff5687f"
    }
  ],
  "metadata": {
    "kernelspec": {
      "name": "python3",
      "language": "python",
      "display_name": "Python 3 (ipykernel)",
      "path": "/usr/local/share/jupyter/kernels/python3"
    }
  },
  "nbformat": 4,
  "nbformat_minor": 5
}